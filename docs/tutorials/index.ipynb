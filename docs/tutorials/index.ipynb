{
 "cells": [
  {
   "cell_type": "markdown",
   "metadata": {},
   "source": [
    "# Dynamics Tutorials\n",
    "\n",
    "systems_modelling.rst Rabi_oscillations.rst\n",
    "Lindblad_dynamics_simulation.rst qiskit_pulse.rst\n",
    "optimizing_pulse_sequence.rst dynamics_backend.rst"
   ]
  }
 ],
 "nbformat": 4,
 "nbformat_minor": 5,
 "metadata": {}
}
